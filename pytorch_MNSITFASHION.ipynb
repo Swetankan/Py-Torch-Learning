{
  "nbformat": 4,
  "nbformat_minor": 0,
  "metadata": {
    "colab": {
      "provenance": [],
      "gpuType": "T4",
      "authorship_tag": "ABX9TyNDE25CtQTmHZxpMrhJZWZC",
      "include_colab_link": true
    },
    "kernelspec": {
      "name": "python3",
      "display_name": "Python 3"
    },
    "language_info": {
      "name": "python"
    },
    "accelerator": "GPU"
  },
  "cells": [
    {
      "cell_type": "markdown",
      "metadata": {
        "id": "view-in-github",
        "colab_type": "text"
      },
      "source": [
        "<a href=\"https://colab.research.google.com/github/rohit-447/Py-Torch-Learning/blob/main/pytorch_MNSITFASHION.ipynb\" target=\"_parent\"><img src=\"https://colab.research.google.com/assets/colab-badge.svg\" alt=\"Open In Colab\"/></a>"
      ]
    },
    {
      "cell_type": "markdown",
      "source": [
        "**MNSIT Pytorch Model**"
      ],
      "metadata": {
        "id": "uYZ4__xYtFVF"
      }
    },
    {
      "cell_type": "code",
      "execution_count": null,
      "metadata": {
        "id": "SmI7eTCusfaj"
      },
      "outputs": [],
      "source": [
        "#@title Import of module\n",
        "import torch\n",
        "from torch import nn\n",
        "from torch.utils.data import DataLoader\n",
        "from torchvision import datasets\n",
        "from torchvision.transforms import ToTensor\n",
        "\n",
        "import matplotlib.pyplot as plt\n",
        "\n",
        "torch.__version__"
      ]
    },
    {
      "cell_type": "code",
      "source": [
        "#@title DataSet Preparation\n",
        "\n",
        "#Loding train dataset\n",
        "train_data=datasets.FashionMNIST(\n",
        "    root=\"data\",\n",
        "    train=True,\n",
        "    download=True,\n",
        "    transform=ToTensor(),\n",
        "    target_transform=None)\n",
        "\n",
        "#Loading Test Data\n",
        "test_data=datasets.FashionMNIST(\n",
        "    root='data',\n",
        "    train=False,\n",
        "    download=True,\n",
        "    transform=ToTensor()\n",
        ")\n",
        "print(f\"Train Data: {len(train_data)}\\nTest Data: {len(test_data)}\")\n",
        "\n",
        "#See the classes of Dataset\n",
        "class_name=train_data.classes\n",
        "class_to_idx=train_data.class_to_idx\n",
        "print(f\"Classes of Dataset:{class_to_idx}\")\n"
      ],
      "metadata": {
        "id": "bgfM65Qks6Ub"
      },
      "execution_count": null,
      "outputs": []
    },
    {
      "cell_type": "code",
      "source": [
        "#@title Visualization of Dataset\n",
        "\n",
        "#Visualization on an image\n",
        "img, label= train_data[0]\n",
        "plt.imshow(img.squeeze(), cmap = \"grey\")\n",
        "plt.title(class_name[label])\n",
        "plt.axis(False)\n",
        "\n",
        "#Displaying multi image from training data\n",
        "torch.manual_seed(42)\n",
        "fig=plt.figure(figsize=(9,9))\n",
        "row=4\n",
        "cols=4\n",
        "for i in range(1, row*cols+1):\n",
        "  random_idx=torch.randint(low=0, high=len(train_data), size=[1]).item()\n",
        "  img, label= train_data[random_idx]\n",
        "  fig.add_subplot(row, cols, i)\n",
        "  fig.suptitle(\"Multiple images of Dataset\")\n",
        "  fig.set_label(\"Multiple images of Dataset\")\n",
        "  plt.imshow(img.squeeze(), cmap=\"grey\")\n",
        "  plt.title(class_name[label])\n",
        "  plt.axis(False)"
      ],
      "metadata": {
        "id": "GSQwMLUCwLQ_"
      },
      "execution_count": null,
      "outputs": []
    },
    {
      "cell_type": "code",
      "source": [
        "#@title Device Agnoistic Code\n",
        "device = \"cuda\" if torch.cuda.is_available() else \"cpu\"\n",
        "print(f'Using device: {device}')"
      ],
      "metadata": {
        "id": "KjBtT85Kzn-r"
      },
      "execution_count": null,
      "outputs": []
    },
    {
      "cell_type": "code",
      "source": [
        "#@title Preparing the DataLoader\n",
        "BATCH_SIZE=32\n",
        "train_dataloder=DataLoader(train_data,\n",
        "                           batch_size=BATCH_SIZE,\n",
        "                           shuffle=True)\n",
        "\n",
        "test_dataloader=DataLoader(test_data,\n",
        "                           batch_size=BATCH_SIZE,\n",
        "                           shuffle=True)\n",
        "\n",
        "train_features_batch, train_label_batch=next(iter(train_dataloder))\n",
        "print(f'Size of train features batch: {train_features_batch.shape},\\nSize of label data{train_label_batch.shape}')\n",
        "\n",
        "#show all the images of a batch\n",
        "torch.manual_seed(42)\n",
        "fig=plt.figure(figsize=(9,9))\n",
        "rows = 4\n",
        "cols = 8\n",
        "\n",
        "for i in range(BATCH_SIZE):\n",
        "  img = train_features_batch[i].squeeze(dim=0)\n",
        "  label = train_label_batch[i]\n",
        "\n",
        "  fig.add_subplot(rows, cols, i + 1)\n",
        "  plt.imshow(img, cmap='grey')\n",
        "  plt.title(class_name[label])\n",
        "  plt.axis(False)\n",
        "\n",
        "plt.suptitle(\"All images of a batch\")\n",
        "plt.show()"
      ],
      "metadata": {
        "id": "8kjKAW9DxzMZ"
      },
      "execution_count": null,
      "outputs": []
    },
    {
      "cell_type": "code",
      "source": [
        "#@title Model for MNSIT\n",
        "class FashionMNISTv0(nn.Module):\n",
        "  def __init__(self,\n",
        "               input_shape: int,\n",
        "               hidden_units: int,\n",
        "               output_shape: int):\n",
        "    super().__init__()\n",
        "    self.linear_layer_stack=nn.Sequential(\n",
        "        nn.Flatten(),\n",
        "        nn.Linear(in_features=input_shape, out_features=hidden_units),\n",
        "        nn.ReLU(),\n",
        "        nn.Linear(in_features=hidden_units, out_features=hidden_units),\n",
        "        nn.ReLU(),\n",
        "        nn.Linear(in_features=hidden_units, out_features=output_shape),\n",
        "        nn.ReLU()\n",
        "    )\n",
        "  def forward(self, X:torch.tensor):\n",
        "    return self.linear_layer_stack(X)\n",
        "\n",
        "#Model Setup\n",
        "torch.manual_seed(42)\n",
        "model_0= FashionMNISTv0(input_shape=784,\n",
        "                        hidden_units=8,\n",
        "                        output_shape=len(class_name)).to(device)\n",
        "\n",
        "#passing a dummy image to model\n",
        "dummy_img=torch.rand(size=(1,784)).to(device)\n",
        "model_0(dummy_img)"
      ],
      "metadata": {
        "id": "V78gHXzCA-Y2"
      },
      "execution_count": null,
      "outputs": []
    },
    {
      "cell_type": "code",
      "source": [],
      "metadata": {
        "id": "Pc7KSKSheV6G"
      },
      "execution_count": null,
      "outputs": []
    },
    {
      "cell_type": "code",
      "source": [
        "#@title Accuracy loss fun and optimizer\n",
        "def accuracy_fn(y_true, y_pred):\n",
        "  correct= torch.eq(y_true,y_pred).sum().item()\n",
        "  acc= (correct/len(y_pred))*100\n",
        "  return acc\n",
        "\n",
        "#loss fn\n",
        "loss_fn=nn.CrossEntropyLoss()\n",
        "\n",
        "#optimizer\n",
        "optimizer=torch.optim.SGD(params=model_0.parameters(), lr=0.1)\n"
      ],
      "metadata": {
        "id": "RxQs-3pOLTVU"
      },
      "execution_count": null,
      "outputs": []
    },
    {
      "cell_type": "code",
      "source": [
        "#training loop per epoch\n",
        "from timeit import default_timer as timer\n",
        "from tqdm.auto import tqdm\n",
        "torch.manual_seed(42)\n",
        "train_time_start=timer()\n",
        "epoch=3\n",
        "for epoch in tqdm(range(epoch)):\n",
        "  print(f\"Epochs: {epoch}\\n ---\")\n",
        "  train_loss=0\n",
        "  train_acc=0\n",
        "\n",
        "  #loop for training per batch\n",
        "  for batch, (X,y) in enumerate(train_dataloder):\n",
        "    X,y=X.to(device),y.to(device)\n",
        "    model_0.train()\n",
        "\n",
        "  #forwward pass\n",
        "    y_pred=model_0(X)\n",
        "\n",
        "  #loss and optm\n",
        "    loss=loss_fn(y_pred, y)\n",
        "\n",
        "    train_loss+=loss\n",
        "    train_acc += accuracy_fn(y_true=y,y_pred=y_pred.argmax(dim=1))\n",
        "\n",
        "    optimizer.zero_grad()\n",
        "    loss.backward()\n",
        "    optimizer.step()\n",
        "\n",
        "  if batch % 400 ==0:\n",
        "    print(f\"Looked at {batch*len(X)} / {len(train_dataloder.dataset)} Samples\")\n",
        "  #train acc and train loss\n",
        "  train_loss=train_loss/len(train_dataloder)\n",
        "  train_acc=train_acc/len(train_dataloder)\n",
        "\n",
        "  #training loop\n",
        "  test_loss=0\n",
        "  test_acc=0\n",
        "  model_0.eval()\n",
        "  with torch.inference_mode():\n",
        "    for X,y in test_dataloader:\n",
        "      X,y=X.to(device), y.to(device)\n",
        "      test_pred=model_0(X)\n",
        "      test_loss+=loss_fn(test_pred, y)\n",
        "      test_acc+=accuracy_fn(y_true=y,  y_pred=test_pred.argmax(dim=1))\n",
        "\n",
        "    #test acc aand test loss per batch\n",
        "    test_acc=test_acc/len(test_dataloader)\n",
        "    test_loss=test_loss/len(test_dataloader)\n",
        "\n",
        "    print(f'\\n Training loss: {train_loss:.5f} | Test loss: {test_loss:.5f} | Test acc: {test_acc:.2f}% Train Acc: {train_acc:.5f}')\n",
        "\n",
        "\n",
        "#caltion of time in training\n",
        "train_time_end=timer()\n",
        "print(f'Total training time: {train_time_end-train_time_start}')\n",
        "\n",
        "\n"
      ],
      "metadata": {
        "id": "KHZiYjBdNecO"
      },
      "execution_count": null,
      "outputs": []
    },
    {
      "cell_type": "code",
      "source": [],
      "metadata": {
        "id": "fRwoEilgOcBy"
      },
      "execution_count": null,
      "outputs": []
    }
  ]
}