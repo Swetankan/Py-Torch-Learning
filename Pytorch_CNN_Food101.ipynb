{
  "nbformat": 4,
  "nbformat_minor": 0,
  "metadata": {
    "colab": {
      "provenance": [],
      "gpuType": "T4",
      "authorship_tag": "ABX9TyNr0LsmZXst/ATRo314/9YR",
      "include_colab_link": true
    },
    "kernelspec": {
      "name": "python3",
      "display_name": "Python 3"
    },
    "language_info": {
      "name": "python"
    },
    "accelerator": "GPU"
  },
  "cells": [
    {
      "cell_type": "markdown",
      "metadata": {
        "id": "view-in-github",
        "colab_type": "text"
      },
      "source": [
        "<a href=\"https://colab.research.google.com/github/rohit-447/Py-Torch-Learning/blob/main/Pytorch_CNN_Food101.ipynb\" target=\"_parent\"><img src=\"https://colab.research.google.com/assets/colab-badge.svg\" alt=\"Open In Colab\"/></a>"
      ]
    },
    {
      "cell_type": "markdown",
      "source": [
        "Working on Food101 Dataset as Custom Dataset\n"
      ],
      "metadata": {
        "id": "DwZkRwhHPTAM"
      }
    },
    {
      "cell_type": "code",
      "execution_count": null,
      "metadata": {
        "id": "nSxLEdcFBUe5"
      },
      "outputs": [],
      "source": [
        "#@title Import of modules\n",
        "import torch\n",
        "from torch import nn\n",
        "import torchvision\n",
        "from torch.utils.data import DataLoader\n",
        "from torchvision.datasets import Food101\n",
        "import matplotlib.pyplot as plt\n",
        "from pathlib import Path\n",
        "torch.__version__, torchvision.__version__"
      ]
    },
    {
      "cell_type": "code",
      "source": [
        "#@title Download of DataSet\n",
        "FOOD101=Food101(root='data', download=True)"
      ],
      "metadata": {
        "id": "35xbW_11a5At"
      },
      "execution_count": null,
      "outputs": []
    },
    {
      "cell_type": "code",
      "source": [
        "#@title Walk through Directory\n",
        "import os\n",
        "def walk_through_dir(dir_path):\n",
        "  for dirpath, dirnames, filenames in os.walk(dir_path):\n",
        "    print(f\"There are {len(dirnames)} directories and {len(filenames)} files in {dirpath}\")\n",
        "\n",
        "#going through folder\n",
        "PATH=Path('data')\n",
        "walk_through_dir(PATH)"
      ],
      "metadata": {
        "id": "ORUY2o0JTEcV"
      },
      "execution_count": null,
      "outputs": []
    },
    {
      "cell_type": "code",
      "source": [
        "#@title Split of Dataset into Train and Test and save them.\n",
        "from sklearn.model_selection import train_test_split\n",
        "import os\n",
        "import shutil\n",
        "import tqdm.auto as tqdm\n",
        "DATA_ORIGINAL_PATH='data/food-101'\n",
        "IMAGES='images'\n",
        "DATA_SPLIT_PATH='Dataset_new'\n",
        "if not os.path.exists(DATA_SPLIT_PATH):\n",
        "  os.makedirs(DATA_SPLIT_PATH, exist_ok=True)\n",
        "\n",
        "source_dir=os.path.join(DATA_ORIGINAL_PATH,IMAGES)\n",
        "train_dir=os.path.join(DATA_SPLIT_PATH, 'train')\n",
        "test_dir=os.path.join(DATA_SPLIT_PATH, 'test')\n",
        "val_dir=os.path.join(DATA_SPLIT_PATH, 'val')\n",
        "\n",
        "#clear the dir if it exists\n",
        "for dir_path in [train_dir, test_dir, val_dir]:\n",
        "  if os.path.exists(dir_path):\n",
        "    shutil.rmtree(dir_path)\n",
        "  os.makedirs(dir_path)\n",
        "\n",
        "#Iterrate over the classes of images\n",
        "for  class_name in tqdm.tqdm(os.listdir(source_dir), desc=\"Processing Classes\", unit=\"class\"):\n",
        "  class_path= os.path.join(source_dir, class_name)\n",
        "  if not os.path.isdir(class_path):\n",
        "    continue\n",
        "\n",
        "  #list all images in class folder\n",
        "  images=[os.path.join(class_path, img) for img in os.listdir(class_path) if img.endswith('.jpg')]\n",
        "  dataset_train, dataset_test=train_test_split(images, test_size=0.2, random_state=42)\n",
        "\n",
        "  #copy the train test files and save them\n",
        "  def copy_files(file_list, save_path):\n",
        "    save_root=os.path.join(save_path, class_name)\n",
        "    os.makedirs(save_root, exist_ok=True)\n",
        "    for f in file_list:\n",
        "      shutil.copy(f, os.path.join(save_root, os.path.basename(f)))\n",
        "\n",
        "  copy_files(dataset_train, train_dir)\n",
        "  copy_files(dataset_test, test_dir)\n",
        "print(f'Dataset Suceesfully split into Train and Test')"
      ],
      "metadata": {
        "id": "NjT2rnrCa69k"
      },
      "execution_count": null,
      "outputs": []
    },
    {
      "cell_type": "code",
      "source": [
        "#checking dataset Split\n",
        "walk_through_dir(DATA_SPLIT_PATH)"
      ],
      "metadata": {
        "id": "lfFCGiTAjr4M"
      },
      "execution_count": null,
      "outputs": []
    },
    {
      "cell_type": "code",
      "source": [
        "#@title Visulisation of Random Images\n",
        "import random\n",
        "import PIL\n",
        "import glob\n",
        "DATASET=Path('Dataset_new')\n",
        "random_image=list(DATASET.glob('*/*/*.jpg'))\n",
        "random_image_path=random.choice(random_image)\n",
        "random_image_class=random_image_path.parent.stem\n",
        "img=PIL.Image.open(random_image_path)\n",
        "print(f'Image Path: {random_image_path}')\n",
        "print(f'Class Height: {img.height} and Width: {img.width}')\n",
        "img"
      ],
      "metadata": {
        "id": "MstfaUEUjvyE"
      },
      "execution_count": null,
      "outputs": []
    },
    {
      "cell_type": "code",
      "source": [
        "#@title Device Agonistic Code\n",
        "device = 'cuda' if torch.cuda.is_available() else 'cpu'\n",
        "device"
      ],
      "metadata": {
        "id": "wtFQdEvpFP8I"
      },
      "execution_count": null,
      "outputs": []
    },
    {
      "cell_type": "code",
      "source": [
        "#@title Data Transformation and Augmentation\n",
        "from torchvision import transforms\n",
        "data_transformation= transforms.Compose([transforms.Resize(size=(128,128)),\n",
        "                                        transforms.RandomHorizontalFlip(p=0.5),\n",
        "                                        transforms.ToTensor()])\n"
      ],
      "metadata": {
        "id": "PQfMhOkSGMtx"
      },
      "execution_count": null,
      "outputs": []
    },
    {
      "cell_type": "code",
      "source": [
        "#@title Data Comparison with Augmented Data\n",
        "def plot_transformation_images(images_path, transform, n=3, seed=42):\n",
        "\n",
        "  random_images_paths=random.sample(images_path, k=n)\n",
        "  for random_image_path in random_images_paths:\n",
        "    with PIL.Image.open(random_image_path) as f:\n",
        "      #original image plot\n",
        "      fig, ax= plt.subplots(1,2)\n",
        "      ax[0].imshow(f)\n",
        "      ax[0].set_title(f\"Original Image: {random_image_path.parent.stem} \\n Size{f.size}\")\n",
        "      ax[0].axis('off')\n",
        "\n",
        "      #tranform image plot\n",
        "      transfomed_image=transform(f).permute(1,2,0)\n",
        "      ax[1].imshow(transfomed_image)\n",
        "      ax[1].set_title(f\"Transformed Image: {random_image_path.parent.stem} \\n{transfomed_image.shape}\")\n",
        "      ax[1].axis('off')\n",
        "      fig.suptitle(f\"Class: {random_image_path.parent.stem}\", fontsize=16)\n",
        "\n",
        "\n",
        "plot_transformation_images(random_image, data_transformation)"
      ],
      "metadata": {
        "id": "bPuN06D5QVdw"
      },
      "execution_count": null,
      "outputs": []
    },
    {
      "cell_type": "code",
      "source": [
        "#@title Loding Data via Using Custom Dataset via ImageFolder\n",
        "from torchvision import datasets\n",
        "TRAIN_DATA_DIR=Path('Dataset_new/train')\n",
        "TEST_DATA_DIR=Path('Dataset_new/test')\n",
        "train_data=datasets.ImageFolder(root=TRAIN_DATA_DIR, transform=data_transformation, target_transform=None)\n",
        "test_data=datasets.ImageFolder(root=TEST_DATA_DIR, transform=data_transformation, target_transform=None)\n",
        "\n",
        "#Getting Class name\n",
        "class_names=train_data.classes\n",
        "class_names_dict=train_data.class_to_idx\n",
        "class_names_dict"
      ],
      "metadata": {
        "id": "k-YK-_MeThWs"
      },
      "execution_count": null,
      "outputs": []
    },
    {
      "cell_type": "code",
      "source": [
        "from numbers import Number\n",
        "#@title Turing images into DataLoader\n",
        "\n",
        "from torch.utils.data import DataLoader\n",
        "BATCH_SIZE=32\n",
        "NUM_WORKERS=os.cpu_count()\n",
        "train_dataloader= DataLoader(dataset=train_data, batch_size=BATCH_SIZE, shuffle=True, num_workers=NUM_WORKERS, pin_memory=True)\n",
        "test_dataloader= DataLoader(dataset=test_data, batch_size=BATCH_SIZE, shuffle=True, num_workers=NUM_WORKERS, pin_memory=True)"
      ],
      "metadata": {
        "id": "78mleJTTm1--"
      },
      "execution_count": 14,
      "outputs": []
    },
    {
      "cell_type": "code",
      "source": [],
      "metadata": {
        "id": "N-yVR1HsGhm2"
      },
      "execution_count": null,
      "outputs": []
    }
  ]
}