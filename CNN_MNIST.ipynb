{
  "nbformat": 4,
  "nbformat_minor": 0,
  "metadata": {
    "colab": {
      "provenance": [],
      "gpuType": "T4",
      "authorship_tag": "ABX9TyPsIfZ2xFDWWlLh7P0H6T8a",
      "include_colab_link": true
    },
    "kernelspec": {
      "name": "python3",
      "display_name": "Python 3"
    },
    "language_info": {
      "name": "python"
    },
    "accelerator": "GPU"
  },
  "cells": [
    {
      "cell_type": "markdown",
      "metadata": {
        "id": "view-in-github",
        "colab_type": "text"
      },
      "source": [
        "<a href=\"https://colab.research.google.com/github/rohit-447/Py-Torch-Learning/blob/main/CNN_MNIST.ipynb\" target=\"_parent\"><img src=\"https://colab.research.google.com/assets/colab-badge.svg\" alt=\"Open In Colab\"/></a>"
      ]
    },
    {
      "cell_type": "code",
      "execution_count": null,
      "metadata": {
        "id": "M2LJX8bgKRjg"
      },
      "outputs": [],
      "source": [
        "#@title Loding Modules\n",
        "import torch\n",
        "from torch import nn\n",
        "import torchvision\n",
        "from torchvision.datasets import FashionMNIST\n",
        "from torch.utils.data import DataLoader\n",
        "from torchvision.transforms import ToTensor\n",
        "import matplotlib.pyplot as plt\n",
        "torch.__version__"
      ]
    },
    {
      "cell_type": "code",
      "source": [
        "#@title DataLoader\n",
        "\n",
        "#Downloading and transforming data into tensor\n",
        "#Train Data\n",
        "train_data=FashionMNIST(\n",
        "    root='data',\n",
        "    download=True,\n",
        "    transform=ToTensor(),\n",
        "    train=True\n",
        ")\n",
        "\n",
        "#Test Data\n",
        "test_data=FashionMNIST(\n",
        "    root='data',\n",
        "    download=True,\n",
        "    transform=ToTensor(),\n",
        "    train=False\n",
        ")\n",
        "\n",
        "print(f\"\\nTrain Data:{len(train_data)}\\nTest Data:{len(test_data)}\")\n"
      ],
      "metadata": {
        "id": "9NKmmpSSK475"
      },
      "execution_count": null,
      "outputs": []
    },
    {
      "cell_type": "code",
      "source": [
        "#@title Visulisation of Data\n",
        "\n",
        "#getting the class of the data\n",
        "class_idx=FashionMNIST.classes\n",
        "\n",
        "#displaying a single iamge\n",
        "img,label=train_data[0]\n",
        "plt.imshow(img.squeeze(), cmap=\"grey\")\n",
        "plt.title(class_idx[label])\n",
        "plt.axis(False)\n",
        "\n",
        "#displying the multiple images\n",
        "random_idx=torch.randint(0,len(train_data),size=[1])\n",
        "plt.figure(figsize=(8,8))\n",
        "rows=2\n",
        "cols=5\n",
        "for i in range(1,rows*cols+1):\n",
        "  img,label=train_data[i]\n",
        "  plt.subplot(rows,cols,i)\n",
        "  plt.imshow(img.squeeze(), cmap=\"grey\")\n",
        "  plt.title(class_idx[label])\n",
        "  plt.axis(False)\n",
        "\n",
        "print(f\"Shape of the image:{img.shape}\")"
      ],
      "metadata": {
        "id": "XE7zxYfEMXmp"
      },
      "execution_count": null,
      "outputs": []
    },
    {
      "cell_type": "code",
      "source": [
        "#@title Device Agonistic Code\n",
        "device=\"cuda\" if torch.cuda.is_available() else \"cpu\"\n",
        "print(f'You are on device: {device}')"
      ],
      "metadata": {
        "id": "uDUGv9NKjoLb"
      },
      "execution_count": null,
      "outputs": []
    },
    {
      "cell_type": "code",
      "source": [
        "#@title DataLoader\n",
        "\n",
        "#from torch.utils.data import DataLoader\n",
        "BATCH_SIZE=32\n",
        "train_dataloader=DataLoader(train_data, batch_size=BATCH_SIZE, shuffle=True)\n",
        "test_dataloader=DataLoader(test_data, batch_size=BATCH_SIZE, shuffle=True)"
      ],
      "metadata": {
        "id": "Vvl5eOxpnfkm"
      },
      "execution_count": null,
      "outputs": []
    },
    {
      "cell_type": "code",
      "source": [
        "#@title Visulaisation of data in dataloader\n",
        "plt.figure(figsize=(10,10))\n",
        "rows=8\n",
        "cols=4\n",
        "# Get a batch of images and labels\n",
        "images, labels = next(iter(train_dataloader))\n",
        "\n",
        "for i in range(rows*cols):\n",
        "  plt.subplot(rows, cols, i+1)\n",
        "  plt.imshow(images[i].squeeze(), cmap=\"grey\")\n",
        "  plt.title(class_idx[labels[i]])\n",
        "  plt.axis(False)\n",
        "\n",
        "plt.tight_layout()\n",
        "plt.show()"
      ],
      "metadata": {
        "id": "aZr0Ok8AoudL"
      },
      "execution_count": null,
      "outputs": []
    },
    {
      "cell_type": "code",
      "source": [
        "#@title Model using CNN"
      ],
      "metadata": {
        "id": "q5K9OIE3rlaV"
      },
      "execution_count": null,
      "outputs": []
    },
    {
      "cell_type": "code",
      "source": [],
      "metadata": {
        "id": "2FKA8Uxsox-0"
      },
      "execution_count": null,
      "outputs": []
    }
  ]
}