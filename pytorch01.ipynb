{
  "nbformat": 4,
  "nbformat_minor": 0,
  "metadata": {
    "colab": {
      "provenance": [],
      "authorship_tag": "ABX9TyOo8wIhRVhVOubjZZP07sYR",
      "include_colab_link": true
    },
    "kernelspec": {
      "name": "python3",
      "display_name": "Python 3"
    },
    "language_info": {
      "name": "python"
    }
  },
  "cells": [
    {
      "cell_type": "markdown",
      "metadata": {
        "id": "view-in-github",
        "colab_type": "text"
      },
      "source": [
        "<a href=\"https://colab.research.google.com/github/Swetankan/Py-Torch-Learning/blob/main/pytorch01.ipynb\" target=\"_parent\"><img src=\"https://colab.research.google.com/assets/colab-badge.svg\" alt=\"Open In Colab\"/></a>"
      ]
    },
    {
      "cell_type": "code",
      "execution_count": null,
      "metadata": {
        "colab": {
          "base_uri": "https://localhost:8080/"
        },
        "id": "nNbTdSokmEIx",
        "outputId": "c4710581-6275-4f3e-a394-a8996acff856"
      },
      "outputs": [
        {
          "output_type": "stream",
          "name": "stdout",
          "text": [
            "hellopw worlddd\n"
          ]
        }
      ],
      "source": [
        "print('hellopw worlddd')"
      ]
    },
    {
      "cell_type": "code",
      "source": [
        "print('hello world')"
      ],
      "metadata": {
        "id": "yr61v872mPKY",
        "colab": {
          "base_uri": "https://localhost:8080/"
        },
        "outputId": "0d36b799-942b-4c90-a94c-00985f39d79b"
      },
      "execution_count": null,
      "outputs": [
        {
          "output_type": "stream",
          "name": "stdout",
          "text": [
            "hello world\n"
          ]
        }
      ]
    },
    {
      "cell_type": "markdown",
      "source": [
        "hjslehjlkere"
      ],
      "metadata": {
        "id": "cXQBy96-Pb58"
      }
    },
    {
      "cell_type": "code",
      "source": [],
      "metadata": {
        "id": "TqwCg4DdPYwC"
      },
      "execution_count": null,
      "outputs": []
    }
  ]
}