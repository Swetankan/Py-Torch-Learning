{
  "nbformat": 4,
  "nbformat_minor": 0,
  "metadata": {
    "colab": {
      "provenance": [],
      "gpuType": "T4",
      "authorship_tag": "ABX9TyNaDg6wdqgT5NUnOVfFxRSS",
      "include_colab_link": true
    },
    "kernelspec": {
      "name": "python3",
      "display_name": "Python 3"
    },
    "language_info": {
      "name": "python"
    },
    "accelerator": "GPU"
  },
  "cells": [
    {
      "cell_type": "markdown",
      "metadata": {
        "id": "view-in-github",
        "colab_type": "text"
      },
      "source": [
        "<a href=\"https://colab.research.google.com/github/rohit-447/Py-Torch-Learning/blob/main/CNN_MNIST.ipynb\" target=\"_parent\"><img src=\"https://colab.research.google.com/assets/colab-badge.svg\" alt=\"Open In Colab\"/></a>"
      ]
    },
    {
      "cell_type": "code",
      "execution_count": null,
      "metadata": {
        "id": "M2LJX8bgKRjg"
      },
      "outputs": [],
      "source": [
        "#@title Loding Modules\n",
        "import torch\n",
        "from torch import nn\n",
        "import torchvision\n",
        "from torchvision.datasets import FashionMNIST\n",
        "from torch.utils.data import DataLoader\n",
        "from torchvision.transforms import ToTensor\n",
        "import matplotlib.pyplot as plt\n",
        "torch.__version__"
      ]
    },
    {
      "cell_type": "code",
      "source": [
        "#@title DataLoader\n",
        "\n",
        "#Downloading and transforming data into tensor\n",
        "#Train Data\n",
        "train_data=FashionMNIST(\n",
        "    root='data',\n",
        "    download=True,\n",
        "    transform=ToTensor(),\n",
        "    train=True\n",
        ")\n",
        "\n",
        "#Test Data\n",
        "test_data=FashionMNIST(\n",
        "    root='data',\n",
        "    download=True,\n",
        "    transform=ToTensor(),\n",
        "    train=False\n",
        ")\n",
        "\n",
        "print(f\"\\nTrain Data:{len(train_data)}\\nTest Data:{len(test_data)}\")\n"
      ],
      "metadata": {
        "id": "9NKmmpSSK475"
      },
      "execution_count": null,
      "outputs": []
    },
    {
      "cell_type": "code",
      "source": [
        "#@title Visulisation of Data\n",
        "\n",
        "#getting the class of the data\n",
        "class_idx=FashionMNIST.classes\n",
        "\n",
        "#displaying a single iamge\n",
        "img,label=train_data[0]\n",
        "plt.imshow(img.squeeze(), cmap=\"grey\")\n",
        "plt.title(class_idx[label])\n",
        "plt.axis(False)\n",
        "\n",
        "#displying the multiple images\n",
        "random_idx=torch.randint(0,len(train_data),size=[1])\n",
        "plt.figure(figsize=(8,8))\n",
        "rows=2\n",
        "cols=5\n",
        "for i in range(1,rows*cols+1):\n",
        "  img,label=train_data[i]\n",
        "  plt.subplot(rows,cols,i)\n",
        "  plt.imshow(img.squeeze(), cmap=\"grey\")\n",
        "  plt.title(class_idx[label])\n",
        "  plt.axis(False)\n",
        "\n",
        "print(f\"Shape of the image:{img.shape}\")"
      ],
      "metadata": {
        "id": "XE7zxYfEMXmp"
      },
      "execution_count": null,
      "outputs": []
    },
    {
      "cell_type": "code",
      "source": [
        "#@title Device Agonistic Code\n",
        "device=\"cuda\" if torch.cuda.is_available() else \"cpu\"\n",
        "print(f'You are on device: {device}')"
      ],
      "metadata": {
        "id": "uDUGv9NKjoLb"
      },
      "execution_count": null,
      "outputs": []
    },
    {
      "cell_type": "code",
      "source": [
        "#@title DataLoader\n",
        "\n",
        "#from torch.utils.data import DataLoader\n",
        "BATCH_SIZE=32\n",
        "train_dataloader=DataLoader(train_data, batch_size=BATCH_SIZE, shuffle=True)\n",
        "test_dataloader=DataLoader(test_data, batch_size=BATCH_SIZE, shuffle=True)"
      ],
      "metadata": {
        "id": "Vvl5eOxpnfkm"
      },
      "execution_count": null,
      "outputs": []
    },
    {
      "cell_type": "code",
      "source": [
        "#@title Visulaisation of data in dataloader\n",
        "plt.figure(figsize=(10,10))\n",
        "rows=8\n",
        "cols=4\n",
        "# Get a batch of images and labels\n",
        "images, labels = next(iter(train_dataloader))\n",
        "\n",
        "for i in range(rows*cols):\n",
        "  plt.subplot(rows, cols, i+1)\n",
        "  plt.imshow(images[i].squeeze(), cmap=\"grey\")\n",
        "  plt.title(class_idx[labels[i]])\n",
        "  plt.axis(False)\n",
        "\n",
        "plt.tight_layout()\n",
        "plt.show()"
      ],
      "metadata": {
        "id": "aZr0Ok8AoudL"
      },
      "execution_count": null,
      "outputs": []
    },
    {
      "cell_type": "code",
      "source": [
        "#@title Model using CNN\n",
        "class MNISTModel(nn.Module):\n",
        "  def __init__(self,\n",
        "               input_shape:int,\n",
        "               hidden_units:int,\n",
        "               ouput_shape:int):\n",
        "\n",
        "    super().__init__()\n",
        "    #layer1\n",
        "    self.layer_stack_1=nn.Sequential(\n",
        "\n",
        "        nn.Conv2d(in_channels=input_shape,\n",
        "                  out_channels=hidden_units,\n",
        "                  kernel_size=3,\n",
        "                  stride=2,\n",
        "                  padding=1),\n",
        "        nn.ReLU(),\n",
        "        nn.Conv2d(in_channels=hidden_units,\n",
        "                  out_channels=hidden_units,\n",
        "                  kernel_size=3,\n",
        "                  stride=2,\n",
        "                  padding=1),\n",
        "        nn.MaxPool2d(kernel_size=2, stride=2))\n",
        "\n",
        "    #Layer 2\n",
        "    self.layer_stack_2=nn.Sequential(\n",
        "        nn.Conv2d(in_channels=hidden_units,\n",
        "                  out_channels=hidden_units,\n",
        "                  kernel_size=3,\n",
        "                  stride=2,\n",
        "                  padding=1),\n",
        "        nn.ReLU(),\n",
        "        nn.MaxPool2d(2))\n",
        "\n",
        "    #layer 3\n",
        "    self.classifier=nn.Sequential(\n",
        "        nn.Flatten(),\n",
        "        nn.Linear(in_features=hidden_units*1*1,\n",
        "                  out_features=ouput_shape))\n",
        "\n",
        "  def forward(self, x: torch.Tensor):\n",
        "        x = self.layer_stack_1(x)\n",
        "        x = self.layer_stack_2(x)\n",
        "        x = self.classifier(x)\n",
        "        return x\n",
        "\n",
        "model=MNISTModel(input_shape=1,\n",
        "                 hidden_units=10,\n",
        "                 ouput_shape=len(class_idx)).to(device)"
      ],
      "metadata": {
        "id": "q5K9OIE3rlaV"
      },
      "execution_count": null,
      "outputs": []
    },
    {
      "cell_type": "code",
      "source": [
        "#@title Optimizer Loss fn and Accuracy Score\n",
        "loss_fn=nn.CrossEntropyLoss()\n",
        "optimizer=torch.optim.SGD(params=model.parameters(), lr=0.1)\n",
        "def acc_fn(y_true, y_pred):\n",
        "  correct=torch.eq(y_true, y_pred).sum().item()\n",
        "  acc=(correct/len(y_pred))*100\n",
        "  return acc"
      ],
      "metadata": {
        "id": "r5ZsZN8XMO0Z"
      },
      "execution_count": null,
      "outputs": []
    },
    {
      "cell_type": "code",
      "source": [
        "#@title Training and Testing Loop\n",
        "from tqdm.auto import tqdm\n",
        "EPOCH=3\n",
        "for epoch in tqdm(range(EPOCH)):\n",
        "  train_loss=0\n",
        "  train_acc=0\n",
        "  test_loss=0\n",
        "  model.train()\n",
        "\n",
        "  for batch, (X,y) in enumerate(train_dataloader):\n",
        "    X,y = X.to(device), y.to(device)\n",
        "\n",
        "\n",
        "    #forward Pass\n",
        "    y_pred=model(X)\n",
        "\n",
        "    #loss and acc\n",
        "    loss=loss_fn(y_pred,y)\n",
        "    train_loss+=loss.item()\n",
        "\n",
        "    preds = y_pred.argmax(dim=1)\n",
        "    train_acc += acc_fn(y_true=y, y_pred=preds)\n",
        "\n",
        "    #optimize the zero grad\n",
        "    optimizer.zero_grad()\n",
        "\n",
        "    #loss backward\n",
        "    loss.backward()\n",
        "\n",
        "    #step optimizer\n",
        "    optimizer.step()\n",
        "\n",
        "    if batch %400==0:\n",
        "      print(f\"Looked at Epoch:[{epoch+1}] {batch*len(X)}/ {len(train_dataloader.dataset)} Samples\")\n",
        "\n",
        "  train_loss/=len(train_dataloader)\n",
        "  train_acc/=len(train_dataloader)\n",
        "  model.eval()\n",
        "  test_acc=0\n",
        "  test_loss=0\n",
        "\n",
        "  with torch.inference_mode():\n",
        "    for X,y in test_dataloader:\n",
        "      X, y = X.to(device), y.to(device)\n",
        "      test_pred=model(X)\n",
        "      test_loss+=loss_fn(test_pred, y).item()\n",
        "      test_acc+=acc_fn(y_true=y, y_pred=test_pred.argmax(dim=1))\n",
        "    test_loss/=len(test_dataloader)\n",
        "    test_acc/=len(test_dataloader)\n",
        "  print(f\"Train loss: {train_loss:.5f} | Train acc: {train_acc:.2f}% | Test loss: {test_loss:.5f} | Test Acc: {test_acc:.2f}%\\n\")"
      ],
      "metadata": {
        "id": "gx0NHpLDKquG"
      },
      "execution_count": null,
      "outputs": []
    },
    {
      "cell_type": "code",
      "source": [
        "# Import tqdm for progress bar\n",
        "from tqdm.auto import tqdm\n",
        "\n",
        "# 1. Make predictions with trained model\n",
        "y_preds = []\n",
        "model.eval()\n",
        "with torch.inference_mode():\n",
        "  for X, y in tqdm(test_dataloader, desc=\"Making predictions\"):\n",
        "    # Send data and targets to target device\n",
        "    X, y = X.to(device), y.to(device)\n",
        "    # Do the forward pass\n",
        "    y_logit = model(X)\n",
        "    # Turn predictions from logits -> prediction probabilities -> predictions labels\n",
        "    y_pred = torch.softmax(y_logit, dim=1).argmax(dim=1) # note: perform softmax on the \"logits\" dimension, not \"batch\" dimension (in this case we have a batch size of 32, so can perform on dim=1)\n",
        "    # Put predictions on CPU for evaluation\n",
        "    y_preds.append(y_pred.cpu())\n",
        "# Concatenate list of predictions into a tensor\n",
        "y_pred_tensor = torch.cat(y_preds)"
      ],
      "metadata": {
        "id": "VVuc0zgniNmk"
      },
      "execution_count": null,
      "outputs": []
    },
    {
      "cell_type": "code",
      "source": [
        "#@title Model Evuolation\n",
        "#!pip install -q torchmetrics -U mlxtend\n",
        "\n",
        "import mlxtend\n",
        "from torchmetrics import ConfusionMatrix\n",
        "from mlxtend.plotting import plot_confusion_matrix\n",
        "\n",
        "confmatrix= ConfusionMatrix(num_classes=len(class_idx), task='multiclass')\n",
        "confmarix_tensor=confmatrix(preds=y_pred_tensor, target=test_data.targets)\n",
        "\n",
        "fig, ax = plot_confusion_matrix(\n",
        "    conf_mat=confmatrix.numpy(),\n",
        "    class_names=class_idx,\n",
        "    figsize=(10, 7)\n",
        ");\n"
      ],
      "metadata": {
        "id": "2nsf1cUiOh0V"
      },
      "execution_count": null,
      "outputs": []
    },
    {
      "cell_type": "code",
      "source": [],
      "metadata": {
        "id": "YXabsuz1g0nb"
      },
      "execution_count": null,
      "outputs": []
    }
  ]
}